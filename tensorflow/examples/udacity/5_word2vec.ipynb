{
 "cells": [
  {
   "cell_type": "markdown",
   "metadata": {
    "colab_type": "text",
    "id": "D7tqLMoKF6uq"
   },
   "source": [
    "Deep Learning\n",
    "=============\n",
    "\n",
    "Assignment 5\n",
    "------------\n",
    "\n",
    "The goal of this assignment is to train a skip-gram model over [Text8](http://mattmahoney.net/dc/textdata) data."
   ]
  },
  {
   "cell_type": "code",
   "execution_count": 1,
   "metadata": {
    "cellView": "both",
    "colab": {
     "autoexec": {
      "startup": false,
      "wait_interval": 0
     }
    },
    "colab_type": "code",
    "collapsed": true,
    "id": "0K1ZyLn04QZf"
   },
   "outputs": [],
   "source": [
    "# These are all the modules we'll be using later. Make sure you can import them\n",
    "# before proceeding further.\n",
    "import collections\n",
    "import math\n",
    "import numpy as np\n",
    "import os\n",
    "import random\n",
    "import tensorflow as tf\n",
    "import urllib\n",
    "import zipfile\n",
    "from matplotlib import pylab\n",
    "from sklearn.manifold import TSNE"
   ]
  },
  {
   "cell_type": "markdown",
   "metadata": {
    "colab_type": "text",
    "id": "aCjPJE944bkV"
   },
   "source": [
    "Download the data from the source website if necessary."
   ]
  },
  {
   "cell_type": "code",
   "execution_count": 2,
   "metadata": {
    "cellView": "both",
    "colab": {
     "autoexec": {
      "startup": false,
      "wait_interval": 0
     },
     "output_extras": [
      {
       "item_id": 1
      }
     ]
    },
    "colab_type": "code",
    "collapsed": false,
    "executionInfo": {
     "elapsed": 14640,
     "status": "ok",
     "timestamp": 1445964482948,
     "user": {
      "color": "#1FA15D",
      "displayName": "Vincent Vanhoucke",
      "isAnonymous": false,
      "isMe": true,
      "permissionId": "05076109866853157986",
      "photoUrl": "//lh6.googleusercontent.com/-cCJa7dTDcgQ/AAAAAAAAAAI/AAAAAAAACgw/r2EZ_8oYer4/s50-c-k-no/photo.jpg",
      "sessionId": "2f1ffade4c9f20de",
      "userId": "102167687554210253930"
     },
     "user_tz": 420
    },
    "id": "RJ-o3UBUFtCw",
    "outputId": "c4ec222c-80b5-4298-e635-93ca9f79c3b7"
   },
   "outputs": [
    {
     "name": "stdout",
     "output_type": "stream",
     "text": [
      "Found and verified text8.zip\n"
     ]
    }
   ],
   "source": [
    "url = 'http://mattmahoney.net/dc/'\n",
    "\n",
    "def maybe_download(filename, expected_bytes):\n",
    "  \"\"\"Download a file if not present, and make sure it's the right size.\"\"\"\n",
    "  if not os.path.exists(filename):\n",
    "    filename, _ = urllib.urlretrieve(url + filename, filename)\n",
    "  statinfo = os.stat(filename)\n",
    "  if statinfo.st_size == expected_bytes:\n",
    "    print 'Found and verified', filename\n",
    "  else:\n",
    "    print statinfo.st_size\n",
    "    raise Exception(\n",
    "      'Failed to verify ' + filename + '. Can you get to it with a browser?')\n",
    "  return filename\n",
    "\n",
    "filename = maybe_download('text8.zip', 31344016)"
   ]
  },
  {
   "cell_type": "markdown",
   "metadata": {
    "colab_type": "text",
    "id": "Zqz3XiqI4mZT"
   },
   "source": [
    "Read the data into a string."
   ]
  },
  {
   "cell_type": "code",
   "execution_count": 47,
   "metadata": {
    "cellView": "both",
    "colab": {
     "autoexec": {
      "startup": false,
      "wait_interval": 0
     },
     "output_extras": [
      {
       "item_id": 1
      }
     ]
    },
    "colab_type": "code",
    "collapsed": false,
    "executionInfo": {
     "elapsed": 28844,
     "status": "ok",
     "timestamp": 1445964497165,
     "user": {
      "color": "#1FA15D",
      "displayName": "Vincent Vanhoucke",
      "isAnonymous": false,
      "isMe": true,
      "permissionId": "05076109866853157986",
      "photoUrl": "//lh6.googleusercontent.com/-cCJa7dTDcgQ/AAAAAAAAAAI/AAAAAAAACgw/r2EZ_8oYer4/s50-c-k-no/photo.jpg",
      "sessionId": "2f1ffade4c9f20de",
      "userId": "102167687554210253930"
     },
     "user_tz": 420
    },
    "id": "Mvf09fjugFU_",
    "outputId": "e3a928b4-1645-4fe8-be17-fcf47de5716d"
   },
   "outputs": [
    {
     "name": "stdout",
     "output_type": "stream",
     "text": [
      "Data size 17005207\n"
     ]
    }
   ],
   "source": [
    "def read_data(filename):\n",
    "  f = zipfile.ZipFile(filename)\n",
    "  for name in f.namelist():\n",
    "    return f.read(name).split()\n",
    "  f.close()\n",
    "  \n",
    "words = read_data(filename)\n",
    "print 'Data size', len(words)"
   ]
  },
  {
   "cell_type": "code",
   "execution_count": null,
   "metadata": {
    "collapsed": false
   },
   "outputs": [],
   "source": []
  },
  {
   "cell_type": "markdown",
   "metadata": {
    "colab_type": "text",
    "id": "Zdw6i4F8glpp"
   },
   "source": [
    "Build the dictionary and replace rare words with UNK token."
   ]
  },
  {
   "cell_type": "code",
   "execution_count": 48,
   "metadata": {
    "cellView": "both",
    "colab": {
     "autoexec": {
      "startup": false,
      "wait_interval": 0
     },
     "output_extras": [
      {
       "item_id": 1
      }
     ]
    },
    "colab_type": "code",
    "collapsed": false,
    "executionInfo": {
     "elapsed": 28849,
     "status": "ok",
     "timestamp": 1445964497178,
     "user": {
      "color": "#1FA15D",
      "displayName": "Vincent Vanhoucke",
      "isAnonymous": false,
      "isMe": true,
      "permissionId": "05076109866853157986",
      "photoUrl": "//lh6.googleusercontent.com/-cCJa7dTDcgQ/AAAAAAAAAAI/AAAAAAAACgw/r2EZ_8oYer4/s50-c-k-no/photo.jpg",
      "sessionId": "2f1ffade4c9f20de",
      "userId": "102167687554210253930"
     },
     "user_tz": 420
    },
    "id": "gAL1EECXeZsD",
    "outputId": "3fb4ecd1-df67-44b6-a2dc-2291730970b2"
   },
   "outputs": [
    {
     "name": "stdout",
     "output_type": "stream",
     "text": [
      "Most common words (+UNK) [['UNK', 418391], ('the', 1061396), ('of', 593677), ('and', 416629), ('one', 411764)]\n",
      "Sample data [5239, 3084, 12, 6, 195, 2, 3137, 46, 59, 156]\n"
     ]
    }
   ],
   "source": [
    "vocabulary_size = 50000\n",
    "\n",
    "def build_dataset(words):\n",
    "  count = [['UNK', -1]]\n",
    "  count.extend(collections.Counter(words).most_common(vocabulary_size - 1))\n",
    "  dictionary = dict()\n",
    "  for word, _ in count:\n",
    "    dictionary[word] = len(dictionary)\n",
    "  data = list()\n",
    "  unk_count = 0\n",
    "  for word in words:\n",
    "    if word in dictionary:\n",
    "      index = dictionary[word]\n",
    "    else:\n",
    "      index = 0  # dictionary['UNK']\n",
    "      unk_count = unk_count + 1\n",
    "    data.append(index)\n",
    "  count[0][1] = unk_count\n",
    "  reverse_dictionary = dict(zip(dictionary.values(), dictionary.keys())) \n",
    "  return data, count, dictionary, reverse_dictionary\n",
    "\n",
    "data, count, dictionary, reverse_dictionary = build_dataset(words)\n",
    "print 'Most common words (+UNK)', count[:5]\n",
    "print 'Sample data', data[:10]\n",
    "# del words  # Hint to reduce memory."
   ]
  },
  {
   "cell_type": "code",
   "execution_count": 50,
   "metadata": {
    "collapsed": false
   },
   "outputs": [
    {
     "data": {
      "text/plain": [
       "5239"
      ]
     },
     "execution_count": 50,
     "metadata": {},
     "output_type": "execute_result"
    }
   ],
   "source": [
    "dictionary['anarchism']"
   ]
  },
  {
   "cell_type": "code",
   "execution_count": 51,
   "metadata": {
    "collapsed": false
   },
   "outputs": [
    {
     "data": {
      "text/plain": [
       "list"
      ]
     },
     "execution_count": 51,
     "metadata": {},
     "output_type": "execute_result"
    }
   ],
   "source": [
    "string = 'aaabbbccccdddeeefffgghiiiiiiiiii'\n",
    "C = collections.Counter(string)\n",
    "type(C.most_common(3))"
   ]
  },
  {
   "cell_type": "markdown",
   "metadata": {
    "colab_type": "text",
    "id": "lFwoyygOmWsL"
   },
   "source": [
    "Function to generate a training batch for the skip-gram model."
   ]
  },
  {
   "cell_type": "code",
   "execution_count": 52,
   "metadata": {
    "cellView": "both",
    "colab": {
     "autoexec": {
      "startup": false,
      "wait_interval": 0
     },
     "output_extras": [
      {
       "item_id": 1
      }
     ]
    },
    "colab_type": "code",
    "collapsed": false,
    "executionInfo": {
     "elapsed": 113,
     "status": "ok",
     "timestamp": 1445964901989,
     "user": {
      "color": "#1FA15D",
      "displayName": "Vincent Vanhoucke",
      "isAnonymous": false,
      "isMe": true,
      "permissionId": "05076109866853157986",
      "photoUrl": "//lh6.googleusercontent.com/-cCJa7dTDcgQ/AAAAAAAAAAI/AAAAAAAACgw/r2EZ_8oYer4/s50-c-k-no/photo.jpg",
      "sessionId": "2f1ffade4c9f20de",
      "userId": "102167687554210253930"
     },
     "user_tz": 420
    },
    "id": "w9APjA-zmfjV",
    "outputId": "67cccb02-cdaf-4e47-d489-43bcc8d57bb8"
   },
   "outputs": [
    {
     "name": "stdout",
     "output_type": "stream",
     "text": [
      "3084 -> 12\n",
      "originated -> as\n",
      "3084 -> 5239\n",
      "originated -> anarchism\n",
      "12 -> 6\n",
      "as -> a\n",
      "12 -> 3084\n",
      "as -> originated\n",
      "6 -> 195\n",
      "a -> term\n",
      "6 -> 12\n",
      "a -> as\n",
      "195 -> 6\n",
      "term -> a\n",
      "195 -> 2\n",
      "term -> of\n"
     ]
    }
   ],
   "source": [
    "data_index = 0\n",
    "\n",
    "def generate_batch(batch_size, num_skips, skip_window):\n",
    "  global data_index\n",
    "  assert batch_size % num_skips == 0\n",
    "  assert num_skips <= 2 * skip_window\n",
    "  batch = np.ndarray(shape=(batch_size), dtype=np.int32)\n",
    "  labels = np.ndarray(shape=(batch_size, 1), dtype=np.int32)\n",
    "  span = 2 * skip_window + 1 # [ skip_window target skip_window ]\n",
    "  buffer = collections.deque(maxlen=span)\n",
    "  for _ in range(span):\n",
    "    buffer.append(data[data_index])\n",
    "    data_index = (data_index + 1) % len(data)\n",
    "  for i in range(batch_size / num_skips):\n",
    "    target = skip_window  # target label at the center of the buffer\n",
    "    targets_to_avoid = [ skip_window ]\n",
    "    for j in range(num_skips):\n",
    "      while target in targets_to_avoid:\n",
    "        target = random.randint(0, span - 1)\n",
    "      targets_to_avoid.append(target)\n",
    "      batch[i * num_skips + j] = buffer[skip_window]\n",
    "      labels[i * num_skips + j, 0] = buffer[target]\n",
    "    buffer.append(data[data_index])\n",
    "    data_index = (data_index + 1) % len(data)\n",
    "  return batch, labels\n",
    "\n",
    "batch, labels = generate_batch(batch_size=8, num_skips=2, skip_window=1)\n",
    "for i in range(8):\n",
    "  print batch[i], '->', labels[i, 0]\n",
    "  print reverse_dictionary[batch[i]], '->', reverse_dictionary[labels[i, 0]]"
   ]
  },
  {
   "cell_type": "markdown",
   "metadata": {
    "colab_type": "text",
    "id": "Ofd1MbBuwiva"
   },
   "source": [
    "Train a skip-gram model."
   ]
  },
  {
   "cell_type": "code",
   "execution_count": 53,
   "metadata": {
    "cellView": "both",
    "colab": {
     "autoexec": {
      "startup": false,
      "wait_interval": 0
     }
    },
    "colab_type": "code",
    "collapsed": true,
    "id": "8pQKsV4Vwlzy"
   },
   "outputs": [],
   "source": [
    "batch_size = 128\n",
    "embedding_size = 128 # Dimension of the embedding vector.\n",
    "skip_window = 1 # How many words to consider left and right.\n",
    "num_skips = 2 # How many times to reuse an input to generate a label.\n",
    "# We pick a random validation set to sample nearest neighbors. here we limit the\n",
    "# validation samples to the words that have a low numeric ID, which by\n",
    "# construction are also the most frequent. \n",
    "valid_size = 16 # Random set of words to evaluate similarity on.\n",
    "valid_window = 100 # Only pick dev samples in the head of the distribution.\n",
    "valid_examples = np.array(random.sample(xrange(valid_window), valid_size))\n",
    "num_sampled = 64 # Number of negative examples to sample.\n",
    "\n",
    "graph = tf.Graph()\n",
    "\n",
    "with graph.as_default():\n",
    "\n",
    "  # Input data.\n",
    "  train_dataset = tf.placeholder(tf.int32, shape=[batch_size])\n",
    "  train_labels = tf.placeholder(tf.int32, shape=[batch_size, 1])\n",
    "  valid_dataset = tf.constant(valid_examples, dtype=tf.int32)\n",
    "  \n",
    "  # Variables.\n",
    "  embeddings = tf.Variable(\n",
    "    tf.random_uniform([vocabulary_size, embedding_size], -1.0, 1.0))\n",
    "  softmax_weights = tf.Variable(\n",
    "    tf.truncated_normal([vocabulary_size, embedding_size],\n",
    "                         stddev=1.0 / math.sqrt(embedding_size)))\n",
    "  softmax_biases = tf.Variable(tf.zeros([vocabulary_size]))\n",
    "  \n",
    "  # Model.\n",
    "  # Look up embeddings for inputs.\n",
    "  embed = tf.nn.embedding_lookup(embeddings, train_dataset)\n",
    "  # Compute the softmax loss, using a sample of the negative labels each time.\n",
    "  loss = tf.reduce_mean(\n",
    "    tf.nn.sampled_softmax_loss(softmax_weights, softmax_biases, embed,\n",
    "                               train_labels, num_sampled, vocabulary_size))\n",
    "\n",
    "  # Optimizer.\n",
    "  optimizer = tf.train.AdagradOptimizer(1.0).minimize(loss)\n",
    "  \n",
    "  # Compute the similarity between minibatch examples and all embeddings.\n",
    "  # We use the cosine distance:\n",
    "  norm = tf.sqrt(tf.reduce_sum(tf.square(embeddings), 1, keep_dims=True))\n",
    "  normalized_embeddings = embeddings / norm\n",
    "  valid_embeddings = tf.nn.embedding_lookup(\n",
    "    normalized_embeddings, valid_dataset)\n",
    "  similarity = tf.matmul(valid_embeddings, tf.transpose(normalized_embeddings))"
   ]
  },
  {
   "cell_type": "code",
   "execution_count": 54,
   "metadata": {
    "cellView": "both",
    "colab": {
     "autoexec": {
      "startup": false,
      "wait_interval": 0
     },
     "output_extras": [
      {
       "item_id": 23
      },
      {
       "item_id": 48
      },
      {
       "item_id": 61
      }
     ]
    },
    "colab_type": "code",
    "collapsed": false,
    "executionInfo": {
     "elapsed": 436189,
     "status": "ok",
     "timestamp": 1445965429787,
     "user": {
      "color": "#1FA15D",
      "displayName": "Vincent Vanhoucke",
      "isAnonymous": false,
      "isMe": true,
      "permissionId": "05076109866853157986",
      "photoUrl": "//lh6.googleusercontent.com/-cCJa7dTDcgQ/AAAAAAAAAAI/AAAAAAAACgw/r2EZ_8oYer4/s50-c-k-no/photo.jpg",
      "sessionId": "2f1ffade4c9f20de",
      "userId": "102167687554210253930"
     },
     "user_tz": 420
    },
    "id": "1bQFGceBxrWW",
    "outputId": "5ebd6d9a-33c6-4bcd-bf6d-252b0b6055e4"
   },
   "outputs": [
    {
     "name": "stdout",
     "output_type": "stream",
     "text": [
      "Initialized\n",
      "Average loss at step 0 : 8.00721263885\n",
      "Nearest to for: goddard, tius, meteors, articles, mobygames, indebtedness, trombones, overwritten,\n",
      "Nearest to known: stanislavski, compromises, vanguard, commuted, shell, powdered, adobe, meshech,\n",
      "Nearest to history: harwich, reactors, topple, jewels, attracts, corbett, supporters, g,\n",
      "Nearest to in: fugitives, gre, piso, zines, waw, truss, lamarck, maclachlan,\n",
      "Nearest to seven: traumatic, domain, zaragoza, anh, nineties, kimono, medalist, maximilian,\n",
      "Nearest to one: troops, voronin, torrey, tampere, tonga, udf, indestructible, pickford,\n",
      "Nearest to world: aykroyd, reduplication, frontal, kitsch, approximated, rightly, foreseen, hypnotized,\n",
      "Nearest to are: cherokees, lutheranism, mohair, iiis, promiscuous, mancha, bosporus, thanks,\n",
      "Nearest to state: eliezer, lowell, subplot, painterly, ghent, freethought, swine, lep,\n",
      "Nearest to during: pi, clavell, film, qh, athlete, jeffrey, kling, assassinated,\n",
      "Nearest to his: hindsight, alkmaar, carrera, irregularities, katsura, birthdate, sahrawi, dana,\n",
      "Nearest to united: directions, celibacy, turns, gy, sponsorship, grohl, octagonal, delegates,\n",
      "Nearest to had: admiral, arrowhead, frontman, inclusion, discretion, televangelist, jia, fide,\n",
      "Nearest to an: dismiss, teenager, troika, ocular, vodafone, ballistics, mmo, glaukos,\n",
      "Nearest to about: potemkin, fads, human, hacking, gro, sv, calculations, jdk,\n",
      "Nearest to nine: mutants, inflorescence, emiliano, vee, pulsation, wheatstone, anima, questionnaire,\n",
      "Average loss at step 2000 : 4.36376510274\n",
      "Average loss at step 4000 : 3.86698027276\n",
      "Average loss at step 6000 : 3.7896933111\n",
      "Average loss at step 8000 : 3.68722944087\n",
      "Average loss at step 10000 : 3.61621488684\n",
      "Nearest to for: in, from, trombones, wins, with, milli, signet, avi,\n",
      "Nearest to known: adobe, stanislavski, censorial, donelson, hinder, such, stromata, vanguard,\n",
      "Nearest to history: jewels, longitudes, forcible, improvisations, corbett, basileus, body, psychoacoustics,\n",
      "Nearest to in: on, of, from, for, lamarck, with, at, within,\n",
      "Nearest to seven: six, eight, nine, five, three, four, zero, two,\n",
      "Nearest to one: two, three, six, four, five, seven, eight, cyp,\n",
      "Nearest to world: rightly, kitsch, reduplication, garrick, foreseen, kroeber, aykroyd, production,\n",
      "Nearest to are: were, is, have, naturalis, was, be, geomagnetic, cherokees,\n",
      "Nearest to state: eliezer, township, mindedness, remoteness, lep, painterly, haunted, lowell,\n",
      "Nearest to during: from, apo, lanthanide, athlete, jeffrey, composting, tiu, properly,\n",
      "Nearest to his: their, the, s, its, her, this, carnivora, a,\n",
      "Nearest to united: eminence, dolmen, gauthier, senate, foregoing, washed, sponsorship, proselytizing,\n",
      "Nearest to had: have, has, was, discretion, prickly, moorehead, seeded, slicing,\n",
      "Nearest to an: the, romano, inge, acheson, teenager, sao, tactics, lain,\n",
      "Nearest to about: fads, incrimination, jdk, human, sv, elias, talmadge, loomis,\n",
      "Nearest to nine: eight, six, seven, five, zero, three, four, two,\n",
      "Average loss at step 12000 : 3.60345853418\n",
      "Average loss at step 14000 : 3.57318624043\n",
      "Average loss at step 16000 : 3.41183893609\n",
      "Average loss at step 18000 : 3.45517731583\n",
      "Average loss at step 20000 : 3.54306318569\n",
      "Nearest to for: of, in, by, and, with, suspecting, civic, on,\n",
      "Nearest to known: such, used, well, adobe, stanislavski, censorial, necessary, hinder,\n",
      "Nearest to history: society, improvisations, longitudes, state, jewels, minstrel, view, villainous,\n",
      "Nearest to in: on, and, at, from, lamarck, during, around, by,\n",
      "Nearest to seven: eight, six, five, four, nine, three, two, zero,\n",
      "Nearest to one: two, four, three, five, seven, eight, six, nine,\n",
      "Nearest to world: rightly, kitsch, garrick, reduplication, marines, production, brubeck, foreseen,\n",
      "Nearest to are: were, is, have, was, geomagnetic, fictions, while, nonviolent,\n",
      "Nearest to state: eliezer, township, mindedness, starbucks, history, boating, remoteness, lowell,\n",
      "Nearest to during: in, after, apo, regarding, from, following, at, lanthanide,\n",
      "Nearest to his: their, her, its, the, carnivora, boomers, several, fushimi,\n",
      "Nearest to united: senate, washed, gauthier, eminence, foregoing, proselytizing, sidebands, dolmen,\n",
      "Nearest to had: has, have, was, were, discretion, wrote, slicing, carolinas,\n",
      "Nearest to an: inge, kilns, the, novelization, romano, another, alcaeus, prudent,\n",
      "Nearest to about: fads, jdk, elias, zeitgeist, potemkin, tiff, least, sv,\n",
      "Nearest to nine: eight, six, seven, five, four, zero, three, two,\n",
      "Average loss at step 22000 : 3.50102248859\n",
      "Average loss at step 24000 : 3.49014755839\n",
      "Average loss at step 26000 : 3.48530246001\n",
      "Average loss at step 28000 : 3.476444552\n",
      "Average loss at step 30000 : 3.50700771144\n",
      "Nearest to for: with, after, when, statics, of, on, while, prep,\n",
      "Nearest to known: used, well, such, necessary, adobe, available, censorial, stanislavski,\n",
      "Nearest to history: society, state, catholic, schleswig, villainous, speedway, patent, carthusian,\n",
      "Nearest to in: at, during, on, and, within, of, under, mid,\n",
      "Nearest to seven: eight, six, four, five, nine, three, zero, two,\n",
      "Nearest to one: two, four, seven, eight, three, five, six, nine,\n",
      "Nearest to world: rightly, publius, reduplication, garrick, marines, raven, brubeck, proceeded,\n",
      "Nearest to are: were, is, have, include, these, while, fictions, be,\n",
      "Nearest to state: mindedness, township, boating, history, supersymmetric, eliezer, gan, remoteness,\n",
      "Nearest to during: in, after, at, from, when, apo, regarding, through,\n",
      "Nearest to his: their, her, its, the, s, several, ediacaran, boomers,\n",
      "Nearest to united: senate, washed, gauthier, sidebands, eminence, foregoing, proselytizing, dolmen,\n",
      "Nearest to had: has, have, was, were, discretion, since, been, became,\n",
      "Nearest to an: inge, kilns, novelization, acheson, materialised, outmoded, catnip, teenager,\n",
      "Nearest to about: fads, bonds, jdk, orphans, least, months, incrimination, sv,\n",
      "Nearest to nine: eight, seven, six, four, five, zero, three, two,\n",
      "Average loss at step 32000 : 3.50285974169\n",
      "Average loss at step 34000 : 3.4928516311\n",
      "Average loss at step 36000 : 3.45420393074\n",
      "Average loss at step 38000 : 3.30137306815\n",
      "Average loss at step 40000 : 3.43029738188\n",
      "Nearest to for: in, of, signet, ivens, while, with, when, at,\n",
      "Nearest to known: such, used, well, available, necessary, stanislavski, adobe, regarded,\n",
      "Nearest to history: society, sacred, carthusian, ov, tortuous, duodenum, bonds, speedway,\n",
      "Nearest to in: for, during, with, within, and, from, on, of,\n",
      "Nearest to seven: eight, five, six, nine, four, three, two, zero,\n",
      "Nearest to one: two, seven, four, eight, six, three, five, nine,\n",
      "Nearest to world: publius, reduplication, rightly, u, schrader, kitsch, microseconds, vietnam,\n",
      "Nearest to are: were, is, have, include, while, although, be, fictions,\n",
      "Nearest to state: government, mindedness, township, boating, remoteness, sugarcane, lubricants, regress,\n",
      "Nearest to during: after, before, at, in, on, when, since, through,\n",
      "Nearest to his: her, their, its, the, s, my, schilling, your,\n",
      "Nearest to united: senate, washed, sidebands, gauthier, sponsorship, dolmen, foregoing, eminence,\n",
      "Nearest to had: has, have, was, were, discretion, been, became, unduly,\n",
      "Nearest to an: catnip, facilitated, novelization, alcaeus, kilns, sao, tactics, romano,\n",
      "Nearest to about: fads, bonds, least, jdk, ingestion, elias, orphans, metered,\n",
      "Nearest to nine: eight, seven, six, five, zero, four, three, two,\n",
      "Average loss at step 42000 : 3.43565273505\n",
      "Average loss at step 44000 : 3.4510146293\n",
      "Average loss at step 46000 : 3.45084294891\n",
      "Average loss at step 48000 : 3.35538826597\n",
      "Average loss at step 50000 : 3.38313210994\n",
      "Nearest to for: while, after, civic, rhetorical, petronas, surround, manaus, droit,\n",
      "Nearest to known: used, such, well, described, available, necessary, regarded, defined,\n",
      "Nearest to history: sacred, society, list, carthusian, tortuous, speedway, form, henotheistic,\n",
      "Nearest to in: during, from, within, of, since, on, until, and,\n",
      "Nearest to seven: six, eight, nine, four, five, three, zero, two,\n",
      "Nearest to one: two, four, six, eight, three, five, seven, nine,\n",
      "Nearest to world: schrader, reduplication, rightly, microseconds, vietnam, publius, headless, scalar,\n",
      "Nearest to are: were, is, have, these, include, those, be, jaffe,\n",
      "Nearest to state: government, mindedness, township, regress, remoteness, avalokitesvara, sugarcane, boating,\n",
      "Nearest to during: after, when, before, in, at, from, under, since,\n",
      "Nearest to his: their, her, its, my, whose, the, s, boomers,\n",
      "Nearest to united: senate, washed, sidebands, accrington, foregoing, sponsorship, gauthier, classics,\n",
      "Nearest to had: has, have, was, were, having, been, wanted, did,\n",
      "Nearest to an: kilns, another, inge, prudent, facilitated, draped, novelization, ballistics,\n",
      "Nearest to about: fads, bonds, least, elias, drusilla, chemotaxis, vilayet, ingestion,\n",
      "Nearest to nine: eight, six, seven, four, three, zero, five, two,\n",
      "Average loss at step 52000 : 3.43581652719\n",
      "Average loss at step 54000 : 3.42690534127\n",
      "Average loss at step 56000 : 3.43552452993\n",
      "Average loss at step 58000 : 3.39852558482\n",
      "Average loss at step 60000 : 3.39371667442\n",
      "Nearest to for: including, of, in, after, simple, zoology, headings, civic,\n",
      "Nearest to known: used, such, well, regarded, necessary, available, described, accepted,\n",
      "Nearest to history: list, society, sacred, saskatoon, vocal, ov, center, ldap,\n",
      "Nearest to in: within, during, of, until, including, since, from, at,\n",
      "Nearest to seven: eight, six, four, nine, five, three, zero, one,\n",
      "Nearest to one: two, four, seven, six, five, eight, three, nine,\n",
      "Nearest to world: schrader, rightly, gemological, reduplication, israeli, headless, microseconds, u,\n",
      "Nearest to are: were, is, have, including, those, include, these, although,\n",
      "Nearest to state: government, gan, township, avalokitesvara, boating, regress, mindedness, paltrow,\n",
      "Nearest to during: after, before, in, when, at, although, following, since,\n",
      "Nearest to his: her, their, its, my, inspections, schilling, the, hindsight,\n",
      "Nearest to united: senate, washed, sidebands, british, accrington, classics, sponsorship, foregoing,\n",
      "Nearest to had: has, have, was, were, having, wanted, unduly, been,\n",
      "Nearest to an: kilns, inge, another, alcaeus, materialised, prudent, facilitated, blotting,\n",
      "Nearest to about: least, elias, fads, bonds, loomis, eu, spec, drusilla,\n",
      "Nearest to nine: eight, six, seven, five, four, three, zero, one,\n",
      "Average loss at step 62000 : 3.24334942812\n",
      "Average loss at step 64000 : 3.25673635161\n",
      "Average loss at step 66000 : 3.40522521746\n",
      "Average loss at step 68000 : 3.3934486596\n",
      "Average loss at step 70000 : 3.36160343063\n",
      "Nearest to for: while, in, including, rhetorical, dues, of, caveats, without,\n",
      "Nearest to known: used, available, regarded, such, well, described, necessary, defined,\n",
      "Nearest to history: list, ov, society, form, spill, discussion, taiwan, speedway,\n",
      "Nearest to in: within, during, on, lamarck, between, for, using, including,\n",
      "Nearest to seven: six, eight, nine, four, five, three, zero, one,\n",
      "Nearest to one: two, seven, four, six, three, five, eight, nine,\n",
      "Nearest to world: headless, microseconds, u, haitian, schrader, rightly, reduplication, title,\n",
      "Nearest to are: were, is, have, include, including, be, these, although,\n",
      "Nearest to state: government, township, gan, boating, regress, bor, chipmunk, avalokitesvara,\n",
      "Nearest to during: after, before, in, until, since, at, within, under,\n",
      "Nearest to his: her, their, its, my, the, your, mainline, whose,\n",
      "Nearest to united: senate, sidebands, washed, accrington, classics, foregoing, gauthier, simpsons,\n",
      "Nearest to had: have, has, was, having, were, idolized, recently, been,\n",
      "Nearest to an: alcaeus, ballistics, kilns, materialised, inge, perch, sao, novelization,\n",
      "Nearest to about: elias, geographically, loomis, drusilla, perpetual, eu, spec, least,\n",
      "Nearest to nine: eight, six, seven, five, four, zero, three, two,\n",
      "Average loss at step 72000 : 3.37451514697\n",
      "Average loss at step 74000 : 3.34482616925\n",
      "Average loss at step 76000 : 3.30978578103\n",
      "Average loss at step 78000 : 3.35492223099\n",
      "Average loss at step 80000 : 3.37725453556\n",
      "Nearest to for: while, ustawa, including, medicare, ganglion, prep, against, berle,\n",
      "Nearest to known: used, regarded, available, such, described, referred, necessary, defined,\n",
      "Nearest to history: list, view, society, horror, dordrecht, ldap, lionheart, duodenum,\n",
      "Nearest to in: within, during, until, on, bedi, dma, between, of,\n",
      "Nearest to seven: five, eight, six, nine, four, three, zero, two,\n",
      "Nearest to one: six, seven, two, eight, three, four, five, nine,\n",
      "Nearest to world: u, microseconds, haitian, title, headless, vietnam, mater, rightly,\n",
      "Nearest to are: were, have, include, is, these, jaffe, those, although,\n",
      "Nearest to state: government, township, gan, avalokitesvara, remoteness, party, paranthropus, chipmunk,\n",
      "Nearest to during: after, before, in, until, when, at, although, since,\n",
      "Nearest to his: her, their, its, my, your, the, our, fanatical,\n",
      "Nearest to united: senate, washed, sidebands, accrington, classics, proselytizing, impress, foregoing,\n",
      "Nearest to had: has, have, were, was, having, wanted, mercia, montague,\n",
      "Nearest to an: kilns, materialised, alcaeus, sao, inge, facilitated, novelization, modeled,\n",
      "Nearest to about: least, eu, elias, geographically, over, perpetual, randori, spec,\n",
      "Nearest to nine: eight, seven, five, six, four, three, zero, one,\n",
      "Average loss at step 82000 : 3.40980916154\n",
      "Average loss at step 84000 : 3.41124768841\n",
      "Average loss at step 86000 : 3.38881713799\n",
      "Average loss at step 88000 : 3.35223511708\n",
      "Average loss at step 90000 : 3.36400897694\n",
      "Nearest to for: prep, of, including, against, while, hci, berle, after,\n",
      "Nearest to known: used, regarded, such, available, described, called, referred, well,\n",
      "Nearest to history: list, view, duodenum, speedway, period, horror, philosophy, poetry,\n",
      "Nearest to in: within, during, until, under, near, between, at, of,\n",
      "Nearest to seven: eight, nine, five, six, four, zero, three, one,\n",
      "Nearest to one: four, two, eight, seven, three, six, five, pmid,\n",
      "Nearest to world: haitian, microseconds, gemological, dissuade, universe, rightly, title, monks,\n",
      "Nearest to are: were, is, include, these, have, jaffe, although, contain,\n",
      "Nearest to state: government, gan, township, paranthropus, city, avalokitesvara, remoteness, boating,\n",
      "Nearest to during: after, before, in, until, at, when, under, although,\n",
      "Nearest to his: her, their, its, my, our, whose, your, s,\n",
      "Nearest to united: senate, washed, sidebands, constitution, classics, talmudic, simpsons, accrington,\n",
      "Nearest to had: has, have, was, were, having, attempted, montague, wanted,\n",
      "Nearest to an: facilitated, kilns, draped, sgt, another, alcaeus, hippopotamus, novelization,\n",
      "Nearest to about: least, elias, eu, randori, perpetual, shootout, spec, partnerships,\n",
      "Nearest to nine: seven, eight, six, five, four, zero, three, births,\n",
      "Average loss at step 92000 : 3.39851633084\n",
      "Average loss at step 94000 : 3.25365758532\n",
      "Average loss at step 96000 : 3.3576099115\n",
      "Average loss at step 98000 : 3.24187435098\n",
      "Average loss at step 100000 : 3.35483630592\n",
      "Nearest to for: including, when, while, dues, suspecting, before, if, without,\n",
      "Nearest to known: such, regarded, used, described, available, defined, possible, called,\n",
      "Nearest to history: list, duodenum, speedway, spill, chargers, encircling, bahasa, view,\n",
      "Nearest to in: during, within, throughout, on, from, through, including, of,\n",
      "Nearest to seven: eight, nine, six, four, five, three, zero, two,\n",
      "Nearest to one: two, eight, three, five, four, seven, six, nine,\n",
      "Nearest to world: haitian, universe, u, title, microseconds, mater, magazine, palestinian,\n",
      "Nearest to are: were, have, include, those, these, is, while, contain,\n",
      "Nearest to state: government, gan, township, haute, press, boating, city, lasted,\n",
      "Nearest to during: in, after, before, since, until, despite, when, through,\n",
      "Nearest to his: her, their, my, its, our, your, the, s,\n",
      "Nearest to united: senate, sidebands, constitution, simpsons, talmudic, washed, classics, accrington,\n",
      "Nearest to had: has, have, was, were, having, would, idolized, treats,\n",
      "Nearest to an: kilns, facilitated, another, materialised, alcaeus, outmoded, catnip, hippopotamus,\n",
      "Nearest to about: least, perpetual, partnerships, shootout, elias, spec, chemotaxis, randori,\n",
      "Nearest to nine: eight, seven, six, four, five, zero, three, two,\n"
     ]
    }
   ],
   "source": [
    "num_steps = 100001\n",
    "\n",
    "with tf.Session(graph=graph) as session:\n",
    "  tf.initialize_all_variables().run()\n",
    "  print \"Initialized\"\n",
    "  average_loss = 0\n",
    "  for step in xrange(num_steps):\n",
    "    batch_data, batch_labels = generate_batch(\n",
    "      batch_size, num_skips, skip_window)\n",
    "    feed_dict = {train_dataset : batch_data, train_labels : batch_labels}\n",
    "    _, l = session.run([optimizer, loss], feed_dict=feed_dict)\n",
    "    average_loss += l\n",
    "    if step % 2000 == 0:\n",
    "      if step > 0:\n",
    "        average_loss = average_loss / 2000\n",
    "      # The average loss is an estimate of the loss over the last 2000 batches.\n",
    "      print \"Average loss at step\", step, \":\", average_loss\n",
    "      average_loss = 0\n",
    "    # note that this is expensive (~20% slowdown if computed every 500 steps)\n",
    "    if step % 10000 == 0:\n",
    "      sim = similarity.eval()\n",
    "      for i in xrange(valid_size):\n",
    "        valid_word = reverse_dictionary[valid_examples[i]]\n",
    "        top_k = 8 # number of nearest neighbors\n",
    "        nearest = (-sim[i, :]).argsort()[1:top_k+1]\n",
    "        log = \"Nearest to %s:\" % valid_word\n",
    "        for k in xrange(top_k):\n",
    "          close_word = reverse_dictionary[nearest[k]]\n",
    "          log = \"%s %s,\" % (log, close_word)\n",
    "        print log\n",
    "  final_embeddings = normalized_embeddings.eval()"
   ]
  },
  {
   "cell_type": "code",
   "execution_count": 55,
   "metadata": {
    "cellView": "both",
    "colab": {
     "autoexec": {
      "startup": false,
      "wait_interval": 0
     }
    },
    "colab_type": "code",
    "collapsed": true,
    "id": "jjJXYA_XzV79"
   },
   "outputs": [],
   "source": [
    "num_points = 400\n",
    "\n",
    "tsne = TSNE(perplexity=30, n_components=2, init='pca', n_iter=5000)\n",
    "two_d_embeddings = tsne.fit_transform(final_embeddings[1:num_points+1, :])"
   ]
  },
  {
   "cell_type": "code",
   "execution_count": null,
   "metadata": {
    "cellView": "both",
    "colab": {
     "autoexec": {
      "startup": false,
      "wait_interval": 0
     },
     "output_extras": [
      {
       "item_id": 1
      }
     ]
    },
    "colab_type": "code",
    "collapsed": false,
    "executionInfo": {
     "elapsed": 4763,
     "status": "ok",
     "timestamp": 1445965465525,
     "user": {
      "color": "#1FA15D",
      "displayName": "Vincent Vanhoucke",
      "isAnonymous": false,
      "isMe": true,
      "permissionId": "05076109866853157986",
      "photoUrl": "//lh6.googleusercontent.com/-cCJa7dTDcgQ/AAAAAAAAAAI/AAAAAAAACgw/r2EZ_8oYer4/s50-c-k-no/photo.jpg",
      "sessionId": "2f1ffade4c9f20de",
      "userId": "102167687554210253930"
     },
     "user_tz": 420
    },
    "id": "o_e0D_UezcDe",
    "outputId": "df22e4a5-e8ec-4e5e-d384-c6cf37c68c34"
   },
   "outputs": [],
   "source": [
    "def plot(embeddings, labels):\n",
    "  assert embeddings.shape[0] >= len(labels), 'More labels than embeddings'\n",
    "  pylab.figure(figsize=(15,15))  # in inches\n",
    "  for i, label in enumerate(labels):\n",
    "    x, y = embeddings[i,:]\n",
    "    pylab.scatter(x, y)\n",
    "    pylab.annotate(label, xy=(x, y), xytext=(5, 2), textcoords='offset points',\n",
    "                   ha='right', va='bottom')\n",
    "  pylab.show()\n",
    "\n",
    "words = [reverse_dictionary[i] for i in xrange(1, num_points+1)]\n",
    "plot(two_d_embeddings, words)"
   ]
  },
  {
   "cell_type": "markdown",
   "metadata": {
    "colab_type": "text",
    "id": "QB5EFrBnpNnc"
   },
   "source": [
    "---\n",
    "\n",
    "Problem\n",
    "-------\n",
    "\n",
    "An alternative to Word2Vec is called [CBOW](http://arxiv.org/abs/1301.3781) (Continuous Bag of Words). In the CBOW model, instead of predicting a context word from a word vector, you predict a word from the sum of all the word vectors in its context. Implement and evaluate a CBOW model trained on the text8 dataset.\n",
    "\n",
    "---"
   ]
  },
  {
   "cell_type": "code",
   "execution_count": null,
   "metadata": {
    "collapsed": true
   },
   "outputs": [],
   "source": []
  }
 ],
 "metadata": {
  "colab": {
   "default_view": {},
   "name": "5_word2vec.ipynb",
   "provenance": [],
   "version": "0.3.2",
   "views": {}
  },
  "kernelspec": {
   "display_name": "Python 2",
   "language": "python",
   "name": "python2"
  },
  "language_info": {
   "codemirror_mode": {
    "name": "ipython",
    "version": 2
   },
   "file_extension": ".py",
   "mimetype": "text/x-python",
   "name": "python",
   "nbconvert_exporter": "python",
   "pygments_lexer": "ipython2",
   "version": "2.7.10"
  }
 },
 "nbformat": 4,
 "nbformat_minor": 0
}
