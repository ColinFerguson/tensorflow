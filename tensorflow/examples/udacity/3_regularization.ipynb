{
 "cells": [
  {
   "cell_type": "markdown",
   "metadata": {
    "colab_type": "text",
    "id": "kR-4eNdK6lYS"
   },
   "source": [
    "Deep Learning\n",
    "=============\n",
    "\n",
    "Assignment 3\n",
    "------------\n",
    "\n",
    "Previously in `2_fullyconnected.ipynb`, you trained a logistic regression and a neural network model.\n",
    "\n",
    "The goal of this assignment is to explore regularization techniques."
   ]
  },
  {
   "cell_type": "code",
   "execution_count": 1,
   "metadata": {
    "cellView": "both",
    "colab": {
     "autoexec": {
      "startup": false,
      "wait_interval": 0
     }
    },
    "colab_type": "code",
    "collapsed": true,
    "id": "JLpLa8Jt7Vu4"
   },
   "outputs": [],
   "source": [
    "# These are all the modules we'll be using later. Make sure you can import them\n",
    "# before proceeding further.\n",
    "import cPickle as pickle\n",
    "import numpy as np\n",
    "import tensorflow as tf"
   ]
  },
  {
   "cell_type": "markdown",
   "metadata": {
    "colab_type": "text",
    "id": "1HrCK6e17WzV"
   },
   "source": [
    "First reload the data we generated in _notmist.ipynb_."
   ]
  },
  {
   "cell_type": "code",
   "execution_count": 2,
   "metadata": {
    "cellView": "both",
    "colab": {
     "autoexec": {
      "startup": false,
      "wait_interval": 0
     },
     "output_extras": [
      {
       "item_id": 1
      }
     ]
    },
    "colab_type": "code",
    "collapsed": false,
    "executionInfo": {
     "elapsed": 11777,
     "status": "ok",
     "timestamp": 1449849322348,
     "user": {
      "color": "",
      "displayName": "",
      "isAnonymous": false,
      "isMe": true,
      "permissionId": "",
      "photoUrl": "",
      "sessionId": "0",
      "userId": ""
     },
     "user_tz": 480
    },
    "id": "y3-cj1bpmuxc",
    "outputId": "e03576f1-ebbe-4838-c388-f1777bcc9873"
   },
   "outputs": [
    {
     "name": "stdout",
     "output_type": "stream",
     "text": [
      "Training set (200000, 28, 28) (200000,)\n",
      "Validation set (10000, 28, 28) (10000,)\n",
      "Test set (18724, 28, 28) (18724,)\n"
     ]
    }
   ],
   "source": [
    "pickle_file = 'notMNIST.pickle'\n",
    "\n",
    "with open(pickle_file, 'rb') as f:\n",
    "  save = pickle.load(f)\n",
    "  train_dataset = save['train_dataset']\n",
    "  train_labels = save['train_labels']\n",
    "  valid_dataset = save['valid_dataset']\n",
    "  valid_labels = save['valid_labels']\n",
    "  test_dataset = save['test_dataset']\n",
    "  test_labels = save['test_labels']\n",
    "  del save  # hint to help gc free up memory\n",
    "  print 'Training set', train_dataset.shape, train_labels.shape\n",
    "  print 'Validation set', valid_dataset.shape, valid_labels.shape\n",
    "  print 'Test set', test_dataset.shape, test_labels.shape"
   ]
  },
  {
   "cell_type": "markdown",
   "metadata": {
    "colab_type": "text",
    "id": "L7aHrm6nGDMB"
   },
   "source": [
    "Reformat into a shape that's more adapted to the models we're going to train:\n",
    "- data as a flat matrix,\n",
    "- labels as float 1-hot encodings."
   ]
  },
  {
   "cell_type": "code",
   "execution_count": 3,
   "metadata": {
    "cellView": "both",
    "colab": {
     "autoexec": {
      "startup": false,
      "wait_interval": 0
     },
     "output_extras": [
      {
       "item_id": 1
      }
     ]
    },
    "colab_type": "code",
    "collapsed": false,
    "executionInfo": {
     "elapsed": 11728,
     "status": "ok",
     "timestamp": 1449849322356,
     "user": {
      "color": "",
      "displayName": "",
      "isAnonymous": false,
      "isMe": true,
      "permissionId": "",
      "photoUrl": "",
      "sessionId": "0",
      "userId": ""
     },
     "user_tz": 480
    },
    "id": "IRSyYiIIGIzS",
    "outputId": "3f8996ee-3574-4f44-c953-5c8a04636582"
   },
   "outputs": [
    {
     "name": "stdout",
     "output_type": "stream",
     "text": [
      "Training set (200000, 784) (200000, 10)\n",
      "Validation set (10000, 784) (10000, 10)\n",
      "Test set (18724, 784) (18724, 10)\n",
      "overfitting set:  (1000, 784) (1000, 10)\n"
     ]
    }
   ],
   "source": [
    "image_size = 28\n",
    "num_labels = 10\n",
    "\n",
    "def reformat(dataset, labels):\n",
    "  dataset = dataset.reshape((-1, image_size * image_size)).astype(np.float32)\n",
    "  # Map 2 to [0.0, 1.0, 0.0 ...], 3 to [0.0, 0.0, 1.0 ...]\n",
    "  labels = (np.arange(num_labels) == labels[:,None]).astype(np.float32)\n",
    "  return dataset, labels\n",
    "train_dataset, train_labels = reformat(train_dataset, train_labels)\n",
    "train_overfitting_dataset, train_overfitting_labels = train_dataset[:1000], train_labels[:1000]\n",
    "valid_dataset, valid_labels = reformat(valid_dataset, valid_labels)\n",
    "test_dataset, test_labels = reformat(test_dataset, test_labels)\n",
    "print 'Training set', train_dataset.shape, train_labels.shape\n",
    "print 'Validation set', valid_dataset.shape, valid_labels.shape\n",
    "print 'Test set', test_dataset.shape, test_labels.shape\n",
    "print 'overfitting set: ', train_overfitting_dataset.shape, train_overfitting_labels.shape"
   ]
  },
  {
   "cell_type": "code",
   "execution_count": 4,
   "metadata": {
    "cellView": "both",
    "colab": {
     "autoexec": {
      "startup": false,
      "wait_interval": 0
     }
    },
    "colab_type": "code",
    "collapsed": true,
    "id": "RajPLaL_ZW6w"
   },
   "outputs": [],
   "source": [
    "def accuracy(predictions, labels):\n",
    "  return (100.0 * np.sum(np.argmax(predictions, 1) == np.argmax(labels, 1))\n",
    "          / predictions.shape[0])"
   ]
  },
  {
   "cell_type": "markdown",
   "metadata": {
    "colab_type": "text",
    "id": "sgLbUAQ1CW-1"
   },
   "source": [
    "---\n",
    "Problem 1\n",
    "---------\n",
    "\n",
    "Introduce and tune L2 regularization for both logistic and neural network models. Remember that L2 amounts to adding a penalty on the norm of the weights to the loss. In TensorFlow, you can compue the L2 loss for a tensor `t` using `nn.l2_loss(t)`. The right amount of regularization should improve your validation / test accuracy.\n",
    "\n",
    "---"
   ]
  },
  {
   "cell_type": "code",
   "execution_count": 5,
   "metadata": {
    "collapsed": false
   },
   "outputs": [],
   "source": [
    "# SGD Logistic model with L2 regularization\n",
    "\n",
    "batch_size = 128\n",
    "beta = 0.01\n",
    "\n",
    "graph = tf.Graph()\n",
    "with graph.as_default():\n",
    "\n",
    "  # Input data. For the training data, we use a placeholder that will be fed\n",
    "  # at run time with a training minibatch.\n",
    "  tf_train_dataset = tf.placeholder(tf.float32,\n",
    "                                    shape=(batch_size, image_size * image_size))\n",
    "  tf_train_labels = tf.placeholder(tf.float32, shape=(batch_size, num_labels))\n",
    "  tf_valid_dataset = tf.constant(valid_dataset)\n",
    "  tf_test_dataset = tf.constant(test_dataset)\n",
    "  \n",
    "  # Variables.\n",
    "  weights = tf.Variable(\n",
    "    tf.truncated_normal([image_size * image_size, num_labels]))\n",
    "  biases = tf.Variable(tf.zeros([num_labels]))\n",
    "  \n",
    "  # Training computation.\n",
    "  logits = tf.matmul(tf_train_dataset, weights) + biases\n",
    "  loss = tf.reduce_mean(\n",
    "    tf.nn.softmax_cross_entropy_with_logits(logits, tf_train_labels)) + beta * tf.nn.l2_loss(weights)\n",
    "  \n",
    "  # Optimizer.\n",
    "  optimizer = tf.train.GradientDescentOptimizer(0.5).minimize(loss)\n",
    "  \n",
    "  # Predictions for the training, validation, and test data.\n",
    "  train_prediction = tf.nn.softmax(logits)\n",
    "  valid_prediction = tf.nn.softmax(\n",
    "    tf.matmul(tf_valid_dataset, weights) + biases)\n",
    "  test_prediction = tf.nn.softmax(tf.matmul(tf_test_dataset, weights) + biases)"
   ]
  },
  {
   "cell_type": "code",
   "execution_count": 6,
   "metadata": {
    "collapsed": false
   },
   "outputs": [
    {
     "name": "stdout",
     "output_type": "stream",
     "text": [
      "Initialized\n",
      "Minibatch loss at step 0 : 45.4204\n",
      "Minibatch accuracy: 14.8%\n",
      "Validation accuracy: 17.7%\n",
      "Minibatch loss at step 500 : 0.915054\n",
      "Minibatch accuracy: 80.5%\n",
      "Validation accuracy: 80.6%\n",
      "Minibatch loss at step 1000 : 0.857227\n",
      "Minibatch accuracy: 80.5%\n",
      "Validation accuracy: 81.5%\n",
      "Minibatch loss at step 1500 : 0.784715\n",
      "Minibatch accuracy: 81.2%\n",
      "Validation accuracy: 81.4%\n",
      "Minibatch loss at step 2000 : 0.728269\n",
      "Minibatch accuracy: 84.4%\n",
      "Validation accuracy: 81.3%\n",
      "Minibatch loss at step 2500 : 0.847331\n",
      "Minibatch accuracy: 81.2%\n",
      "Validation accuracy: 81.1%\n",
      "Minibatch loss at step 3000 : 0.857854\n",
      "Minibatch accuracy: 81.2%\n",
      "Validation accuracy: 80.2%\n",
      "Test accuracy: 87.2%\n"
     ]
    }
   ],
   "source": [
    "num_steps = 3001\n",
    "\n",
    "with tf.Session(graph=graph) as session:\n",
    "  tf.initialize_all_variables().run()\n",
    "  print \"Initialized\"\n",
    "  for step in xrange(num_steps):\n",
    "    # Pick an offset within the training data, which has been randomized.\n",
    "    # Note: we could use better randomization across epochs.\n",
    "    offset = (step * batch_size) % (train_labels.shape[0] - batch_size)\n",
    "    # Generate a minibatch.\n",
    "    batch_data = train_dataset[offset:(offset + batch_size), :]\n",
    "    batch_labels = train_labels[offset:(offset + batch_size), :]\n",
    "    # Prepare a dictionary telling the session where to feed the minibatch.\n",
    "    # The key of the dictionary is the placeholder node of the graph to be fed,\n",
    "    # and the value is the numpy array to feed to it.\n",
    "    feed_dict = {tf_train_dataset : batch_data, tf_train_labels : batch_labels}\n",
    "    _, l, predictions = session.run(\n",
    "      [optimizer, loss, train_prediction], feed_dict=feed_dict)\n",
    "    if (step % 500 == 0):\n",
    "      print \"Minibatch loss at step\", step, \":\", l\n",
    "      print \"Minibatch accuracy: %.1f%%\" % accuracy(predictions, batch_labels)\n",
    "      print \"Validation accuracy: %.1f%%\" % accuracy(\n",
    "        valid_prediction.eval(), valid_labels)\n",
    "  print \"Test accuracy: %.1f%%\" % accuracy(test_prediction.eval(), test_labels)"
   ]
  },
  {
   "cell_type": "markdown",
   "metadata": {},
   "source": [
    "Increased accuracy by about 2%"
   ]
  },
  {
   "cell_type": "code",
   "execution_count": 25,
   "metadata": {
    "collapsed": true
   },
   "outputs": [],
   "source": [
    "# Now add regularization to the net\n",
    "\n",
    "\n",
    "batch_size = 128\n",
    "num_nodes = 1024\n",
    "beta1 = 0.0001\n",
    "beta2 = 0.0001\n",
    "\n",
    "graph = tf.Graph()\n",
    "with graph.as_default():\n",
    "\n",
    "  # Input data. For the training data, we use a placeholder that will be fed\n",
    "  # at run time with a training minibatch.\n",
    "  tf_train_dataset = tf.placeholder(tf.float32,\n",
    "                                    shape=(batch_size, image_size * image_size))\n",
    "  tf_train_labels = tf.placeholder(tf.float32, shape=(batch_size, num_labels))\n",
    "  tf_valid_dataset = tf.constant(valid_dataset)\n",
    "  tf_test_dataset = tf.constant(test_dataset)\n",
    "  \n",
    "  # Variables.\n",
    "  weights1 = tf.Variable(\n",
    "    tf.truncated_normal([image_size * image_size, num_nodes]))\n",
    "  biases1 = tf.Variable(tf.zeros([num_nodes]))\n",
    "    \n",
    "  weights2 = tf.Variable(tf.truncated_normal([num_nodes, num_labels]))\n",
    "  biases2 = tf.Variable(tf.zeros([num_labels]))\n",
    "  \n",
    "  # Training computation.\n",
    "  logits = tf.matmul(tf_train_dataset, weights1) + biases1\n",
    "  \n",
    "  non_linear = tf.nn.relu(logits)\n",
    "  \n",
    "  final_layer = tf.matmul(non_linear, weights2) + biases2\n",
    "  \n",
    "  loss = tf.reduce_mean(\n",
    "    tf.nn.softmax_cross_entropy_with_logits(final_layer, tf_train_labels)) + beta1 * tf.nn.l2_loss(weights1) \\\n",
    "    + beta2 * tf.nn.l2_loss(weights2)\n",
    "  \n",
    "  # Optimizer.\n",
    "  optimizer = tf.train.GradientDescentOptimizer(0.5).minimize(loss)\n",
    "  \n",
    "  # Predictions for the training, validation, and test data.\n",
    "  train_prediction = tf.nn.softmax(final_layer)\n",
    "  valid_prediction = tf.nn.softmax(tf.matmul(tf.nn.relu(\n",
    "    tf.matmul(tf_valid_dataset, weights1) + biases1), weights2) + biases2)\n",
    "  test_prediction = tf.nn.softmax(tf.matmul(tf.nn.relu(\n",
    "    tf.matmul(tf_test_dataset, weights1) + biases1), weights2) + biases2)"
   ]
  },
  {
   "cell_type": "code",
   "execution_count": 26,
   "metadata": {
    "collapsed": false
   },
   "outputs": [
    {
     "name": "stdout",
     "output_type": "stream",
     "text": [
      "Initialized\n",
      "Minibatch loss at step 0 : 370.529\n",
      "Minibatch accuracy: 14.1%\n",
      "Validation accuracy: 22.2%\n",
      "Minibatch loss at step 500 : 47.4568\n",
      "Minibatch accuracy: 76.6%\n",
      "Validation accuracy: 78.5%\n",
      "Minibatch loss at step 1000 : 37.102\n",
      "Minibatch accuracy: 80.5%\n",
      "Validation accuracy: 80.0%\n",
      "Minibatch loss at step 1500 : 35.9374\n",
      "Minibatch accuracy: 78.1%\n",
      "Validation accuracy: 79.8%\n",
      "Minibatch loss at step 2000 : 27.2416\n",
      "Minibatch accuracy: 87.5%\n",
      "Validation accuracy: 81.7%\n",
      "Minibatch loss at step 2500 : 27.0983\n",
      "Minibatch accuracy: 84.4%\n",
      "Validation accuracy: 81.9%\n",
      "Minibatch loss at step 3000 : 24.2082\n",
      "Minibatch accuracy: 81.2%\n",
      "Validation accuracy: 82.8%\n",
      "Test accuracy: 89.4%\n"
     ]
    }
   ],
   "source": [
    "num_steps = 3001\n",
    "\n",
    "with tf.Session(graph=graph) as session:\n",
    "  tf.initialize_all_variables().run()\n",
    "  print \"Initialized\"\n",
    "  for step in xrange(num_steps):\n",
    "    # Pick an offset within the training data, which has been randomized.\n",
    "    # Note: we could use better randomization across epochs.\n",
    "    offset = (step * batch_size) % (train_labels.shape[0] - batch_size)\n",
    "    # Generate a minibatch.\n",
    "    batch_data = train_dataset[offset:(offset + batch_size), :]\n",
    "    batch_labels = train_labels[offset:(offset + batch_size), :]\n",
    "    # Prepare a dictionary telling the session where to feed the minibatch.\n",
    "    # The key of the dictionary is the placeholder node of the graph to be fed,\n",
    "    # and the value is the numpy array to feed to it.\n",
    "    feed_dict = {tf_train_dataset : batch_data, tf_train_labels : batch_labels}\n",
    "    _, l, predictions = session.run(\n",
    "      [optimizer, loss, train_prediction], feed_dict=feed_dict)\n",
    "    if (step % 500 == 0):\n",
    "      print \"Minibatch loss at step\", step, \":\", l\n",
    "      print \"Minibatch accuracy: %.1f%%\" % accuracy(predictions, batch_labels)\n",
    "      print \"Validation accuracy: %.1f%%\" % accuracy(\n",
    "        valid_prediction.eval(), valid_labels)\n",
    "  print \"Test accuracy: %.1f%%\" % accuracy(test_prediction.eval(), test_labels)"
   ]
  },
  {
   "cell_type": "markdown",
   "metadata": {},
   "source": [
    "Also increased by ~2%"
   ]
  },
  {
   "cell_type": "markdown",
   "metadata": {
    "colab_type": "text",
    "id": "na8xX2yHZzNF"
   },
   "source": [
    "---\n",
    "Problem 2\n",
    "---------\n",
    "Let's demonstrate an extreme case of overfitting. Restrict your training data to just a few batches. What happens?\n",
    "\n",
    "---"
   ]
  },
  {
   "cell_type": "markdown",
   "metadata": {},
   "source": [
    "Overfitting, performance on the test and validation sets decreases, minibatch accuracy increased to ~100%"
   ]
  },
  {
   "cell_type": "markdown",
   "metadata": {
    "colab_type": "text",
    "id": "ww3SCBUdlkRc"
   },
   "source": [
    "---\n",
    "Problem 3\n",
    "---------\n",
    "Introduce Dropout on the hidden layer of the neural network. Remember: Dropout should only be introduced during training, not evaluation, otherwise your evaluation results would be stochastic as well. TensorFlow provides `nn.dropout()` for that, but you have to make sure it's only inserted during training.\n",
    "\n",
    "What happens to our extreme overfitting case?\n",
    "\n",
    "---"
   ]
  },
  {
   "cell_type": "code",
   "execution_count": 11,
   "metadata": {
    "collapsed": false
   },
   "outputs": [],
   "source": [
    "# Try to introduce dropout on the Net\n",
    "\n",
    "batch_size = 128\n",
    "num_nodes = 8192\n",
    "beta1 = 0.00001\n",
    "beta2 = 0.00001\n",
    "beta3 = 0.00001\n",
    "\n",
    "graph = tf.Graph()\n",
    "with graph.as_default():\n",
    "\n",
    "  # Input data. For the training data, we use a placeholder that will be fed\n",
    "  # at run time with a training minibatch.\n",
    "  tf_train_dataset = tf.placeholder(tf.float32,\n",
    "                                    shape=(batch_size, image_size * image_size))\n",
    "  tf_train_labels = tf.placeholder(tf.float32, shape=(batch_size, num_labels))\n",
    "  tf_valid_dataset = tf.constant(valid_dataset)\n",
    "  tf_test_dataset = tf.constant(test_dataset)\n",
    "  \n",
    "  # Variables.\n",
    "  weights1 = tf.Variable(\n",
    "    tf.truncated_normal([image_size * image_size, num_nodes]))\n",
    "  biases1 = tf.Variable(tf.zeros([num_nodes]))\n",
    "    \n",
    "  weights2 = tf.Variable(tf.truncated_normal([num_nodes, num_labels]))\n",
    "  biases2 = tf.Variable(tf.zeros([num_labels]))\n",
    "    \n",
    "  # Training computation.\n",
    "  \n",
    "  hidden_layer = tf.nn.dropout(tf.nn.relu(tf.matmul(tf_train_dataset, weights1) + biases1), 0.5)\n",
    "\n",
    "  second_layer = tf.matmul(hidden_layer, weights2) + biases2\n",
    "\n",
    "\n",
    "  loss = tf.reduce_mean(\n",
    "    tf.nn.softmax_cross_entropy_with_logits(second_layer, tf_train_labels))\n",
    "\n",
    "  regular = beta1 * tf.nn.l2_loss(weights1) + beta2 * tf.nn.l2_loss(weights2)\n",
    "  \n",
    "  loss += regular\n",
    "\n",
    "#   Optimizer.\n",
    "  optimizer = tf.train.GradientDescentOptimizer(0.005).minimize(loss)\n",
    "\n",
    "  # Optimizer.\n",
    "#   global_step = tf.Variable(0)  # count the number of steps taken.\n",
    "#   learning_rate = tf.train.exponential_decay(0.0004, global_step,1000,0.90,staircase=True)\n",
    "#   optimizer = tf.train.GradientDescentOptimizer(learning_rate).minimize(loss, global_step=global_step)\n",
    "    \n",
    "  \n",
    "  # Predictions for the training, validation, and test data.\n",
    "  train_prediction = tf.nn.softmax(second_layer)\n",
    "  valid_prediction = tf.nn.softmax(tf.matmul(tf.nn.relu((tf.matmul(tf_valid_dataset, weights1)\\\n",
    "                                                                      + biases1)), weights2) + biases2)\n",
    "  test_prediction = tf.nn.softmax(tf.matmul(tf.nn.relu((tf.matmul(\\\n",
    "                                                                tf_test_dataset, weights1)\\\n",
    "                                                                    + biases1)), weights2) + biases2)\n",
    "\n",
    "# test_prediction = tf.nn.softmax(\n",
    "#     tf.matmul(tf.nn.relu((tf.matmul(tf_test_dataset, weights_1) + biases_1)),weights_2)+biases_2)\n"
   ]
  },
  {
   "cell_type": "code",
   "execution_count": 12,
   "metadata": {
    "collapsed": false
   },
   "outputs": [
    {
     "name": "stdout",
     "output_type": "stream",
     "text": [
      "Initialized\n",
      "Minibatch loss at step 0 : 1526.32\n",
      "Minibatch accuracy: 13.3%\n",
      "Validation accuracy: 14.6%\n",
      "Minibatch loss at step 500 : 304.205\n",
      "Minibatch accuracy: 68.8%\n",
      "Validation accuracy: 81.3%\n",
      "Minibatch loss at step 1000 : 292.313\n",
      "Minibatch accuracy: 71.1%\n",
      "Validation accuracy: 82.7%\n",
      "Minibatch loss at step 1500 : 212.938\n",
      "Minibatch accuracy: 78.1%\n",
      "Validation accuracy: 83.3%\n",
      "Minibatch loss at step 2000 : 211.478\n",
      "Minibatch accuracy: 79.7%\n",
      "Validation accuracy: 84.0%\n",
      "Minibatch loss at step 2500 : 258.846\n",
      "Minibatch accuracy: 70.3%\n",
      "Validation accuracy: 84.3%\n",
      "Minibatch loss at step 3000 : 270.633\n",
      "Minibatch accuracy: 73.4%\n",
      "Validation accuracy: 84.6%\n",
      "Minibatch loss at step 3500 : 216.991\n",
      "Minibatch accuracy: 77.3%\n",
      "Validation accuracy: 84.8%\n",
      "Minibatch loss at step 4000 : 150.906\n",
      "Minibatch accuracy: 85.2%\n",
      "Validation accuracy: 85.0%\n",
      "Minibatch loss at step 4500 : 154.017\n",
      "Minibatch accuracy: 82.0%\n",
      "Validation accuracy: 85.1%\n",
      "Minibatch loss at step 5000 : 159.535\n",
      "Minibatch accuracy: 80.5%\n",
      "Validation accuracy: 85.3%\n",
      "Minibatch loss at step 5500 : 157.911\n",
      "Minibatch accuracy: 84.4%\n",
      "Validation accuracy: 85.5%\n",
      "Minibatch loss at step 6000 : 172.109\n",
      "Minibatch accuracy: 76.6%\n",
      "Validation accuracy: 85.8%\n",
      "Minibatch loss at step 6500 : 106.249\n",
      "Minibatch accuracy: 82.8%\n",
      "Validation accuracy: 86.0%\n",
      "Minibatch loss at step 7000 : 135.036\n",
      "Minibatch accuracy: 82.8%\n",
      "Validation accuracy: 86.0%\n",
      "Minibatch loss at step 7500 : 114.574\n",
      "Minibatch accuracy: 84.4%\n",
      "Validation accuracy: 86.0%\n",
      "Minibatch loss at step 8000 : 193.751\n",
      "Minibatch accuracy: 78.1%\n",
      "Validation accuracy: 86.2%\n",
      "Minibatch loss at step 8500 : 109.633\n",
      "Minibatch accuracy: 85.9%\n",
      "Validation accuracy: 86.3%\n",
      "Minibatch loss at step 9000 : 130.396\n",
      "Minibatch accuracy: 81.2%\n",
      "Validation accuracy: 86.4%\n",
      "Minibatch loss at step 9500 : 154.456\n",
      "Minibatch accuracy: 81.2%\n",
      "Validation accuracy: 86.7%\n",
      "Minibatch loss at step 10000 : 177.136\n",
      "Minibatch accuracy: 81.2%\n",
      "Validation accuracy: 86.9%\n",
      "Test accuracy: 93.0%\n"
     ]
    }
   ],
   "source": [
    "num_steps = 10001\n",
    "\n",
    "with tf.Session(graph=graph) as session:\n",
    "  tf.initialize_all_variables().run()\n",
    "  print \"Initialized\"\n",
    "  for step in xrange(num_steps):\n",
    "    # Pick an offset within the training data, which has been randomized.\n",
    "    # Note: we could use better randomization across epochs.\n",
    "    offset = (step * batch_size) % (train_labels.shape[0] - batch_size)\n",
    "    # Generate a minibatch.\n",
    "    batch_data = train_dataset[offset:(offset + batch_size), :]\n",
    "    batch_labels = train_labels[offset:(offset + batch_size), :]\n",
    "    # Prepare a dictionary telling the session where to feed the minibatch.\n",
    "    # The key of the dictionary is the placeholder node of the graph to be fed,\n",
    "    # and the value is the numpy array to feed to it.\n",
    "    feed_dict = {tf_train_dataset : batch_data, tf_train_labels : batch_labels}\n",
    "    _, l, predictions = session.run(\n",
    "      [optimizer, loss, train_prediction], feed_dict=feed_dict)\n",
    "    if (step % 500 == 0):\n",
    "      print \"Minibatch loss at step\", step, \":\", l\n",
    "      print \"Minibatch accuracy: %.1f%%\" % accuracy(predictions, batch_labels)\n",
    "      print \"Validation accuracy: %.1f%%\" % accuracy(\n",
    "        valid_prediction.eval(), valid_labels)\n",
    "  print \"Test accuracy: %.1f%%\" % accuracy(test_prediction.eval(), test_labels)"
   ]
  },
  {
   "cell_type": "markdown",
   "metadata": {},
   "source": [
    "Sweet, 91.6 with dropout (1024 nodes).  What happens when number of nodes is increased?  1024-2048, also decreased betas and learning rate, but LR is still constant.  Sweet, 92%, what happens when rad LR is introduced?  Ooh, 83.9, no good!  92.6% after increasing all the way to 4096!   Now change back to 1024 hidden nodes, and switch from ReLU to tanh: Wow, no good, 66.9%.  Weird, how about ReLU6?  Certainly better at 88.9%.  One more time: Sigmoid, 83.7.  Bizarre.  Okay, back to relu, bumped the hidden layer up to 8192, decreased LR and betas, got 93%, highest yet."
   ]
  },
  {
   "cell_type": "markdown",
   "metadata": {
    "colab_type": "text",
    "id": "-b1hTz3VWZjw"
   },
   "source": [
    "---\n",
    "Problem 4\n",
    "---------\n",
    "\n",
    "Try to get the best performance you can using a multi-layer model! The best reported test accuracy using a deep network is [97.1%](http://yaroslavvb.blogspot.com/2011/09/notmnist-dataset.html?showComment=1391023266211#c8758720086795711595).\n",
    "\n",
    "One avenue you can explore is to add multiple layers.\n",
    "\n",
    "Another one is to use learning rate decay:\n",
    "\n",
    "    global_step = tf.Variable(0)  # count the number of steps taken.\n",
    "    learning_rate = tf.train.exponential_decay(0.5, step, ...)\n",
    "    optimizer = tf.train.GradientDescentOptimizer(learning_rate).minimize(loss, global_step=global_step)\n",
    " \n",
    " ---\n"
   ]
  },
  {
   "cell_type": "code",
   "execution_count": 5,
   "metadata": {
    "collapsed": false
   },
   "outputs": [],
   "source": [
    "# Try to add multiple layers\n",
    "\n",
    "\n",
    "batch_size = 128\n",
    "num_nodes_1 = 1024\n",
    "num_nodes_2 = 1024\n",
    "beta1 = 0.000000001\n",
    "beta2 = 0.000000001\n",
    "beta3 = 0.000000001\n",
    "beta4 = 0.000000001\n",
    "\n",
    "graph = tf.Graph()\n",
    "with graph.as_default():\n",
    "\n",
    "  # Input data. For the training data, we use a placeholder that will be fed\n",
    "  # at run time with a training minibatch.\n",
    "  tf_train_dataset = tf.placeholder(tf.float32,\n",
    "                                    shape=(batch_size, image_size * image_size))\n",
    "  tf_train_labels = tf.placeholder(tf.float32, shape=(batch_size, num_labels))\n",
    "  tf_valid_dataset = tf.constant(valid_dataset)\n",
    "  tf_test_dataset = tf.constant(test_dataset)\n",
    "  \n",
    "  # Variables.\n",
    "  weights1 = tf.Variable(\n",
    "    tf.truncated_normal([image_size * image_size, num_nodes_1]))\n",
    "  biases1 = tf.Variable(tf.zeros([num_nodes_1]))\n",
    "    \n",
    "  weights2 = tf.Variable(tf.truncated_normal([num_nodes_1, num_nodes_2]))\n",
    "  biases2 = tf.Variable(tf.zeros([num_nodes_2]))\n",
    "    \n",
    "  weights3 = tf.Variable(tf.truncated_normal([num_nodes_2, num_nodes_2]))\n",
    "  biases3 = tf.Variable(tf.zeros([num_nodes_2]))\n",
    "    \n",
    "  weights4 = tf.Variable(tf.truncated_normal([num_nodes_2, num_labels]))\n",
    "  biases4 = tf.Variable(tf.zeros([num_labels]))\n",
    "  \n",
    "  # Training computation.\n",
    "  hidden_1 = tf.nn.relu(tf.matmul(tf_train_dataset, weights1) + biases1)\n",
    "\n",
    "  hidden_2 = tf.nn.relu(tf.matmul(hidden_1, weights2) + biases2)\n",
    "  \n",
    "  hidden_3 = tf.nn.dropout(tf.nn.relu(tf.matmul(hidden_2, weights3) + biases3), 0.5)\n",
    "    \n",
    "  final_layer = tf.matmul(hidden_3, weights4) + biases4\n",
    "\n",
    "  \n",
    "  loss = tf.reduce_mean(\n",
    "    tf.nn.softmax_cross_entropy_with_logits(final_layer, tf_train_labels))\n",
    "\n",
    "  regular = beta1 * tf.nn.l2_loss(weights1) + beta2 * tf.nn.l2_loss(weights2) + beta3 * tf.nn.l2_loss(weights3) \\\n",
    "                        + beta4 * tf.nn.l2_loss(weights4)\n",
    "  \n",
    "  loss += regular\n",
    "\n",
    "  # Optimizer.\n",
    "  global_step = tf.Variable(0)  # count the number of steps taken.\n",
    "  learning_rate = tf.train.exponential_decay(0.0000004, global_step,1000,0.90,staircase=True)\n",
    "  optimizer = tf.train.GradientDescentOptimizer(learning_rate).minimize(loss, global_step=global_step)\n",
    "    \n",
    "\n",
    "\n",
    "# optimizer = tf.train.GradientDescentOptimizer(0.05).minimize(loss)\n",
    "  \n",
    "  # Predictions for the training, validation, and test data.\n",
    "  train_prediction = tf.nn.softmax(final_layer)\n",
    "  valid_prediction = tf.nn.softmax(tf.matmul(tf.nn.relu(tf.matmul(tf.nn.relu(tf.matmul(tf.nn.relu(tf.matmul(tf_valid_dataset, weights1) \\\n",
    "                                                                                                  + biases1), weights2)\\\n",
    "                                                          + biases2), weights3) + biases3), weights4) + biases4)\n",
    "    \n",
    "    \n",
    "  test_prediction = tf.nn.softmax(tf.matmul(tf.nn.relu(tf.matmul(tf.nn.relu(tf.matmul(tf.nn.relu(tf.matmul(tf_test_dataset, weights1)\\\n",
    "                                                                                    + biases1), weights2)\\\n",
    "                                                          + biases2), weights3) + biases3), weights4) + biases4)"
   ]
  },
  {
   "cell_type": "code",
   "execution_count": 6,
   "metadata": {
    "collapsed": false
   },
   "outputs": [
    {
     "name": "stdout",
     "output_type": "stream",
     "text": [
      "Initialized\n",
      "Minibatch loss at step 0 : 183895.0\n",
      "Minibatch accuracy: 12.5%\n",
      "Validation accuracy: 11.2%\n",
      "Minibatch loss at step 500 : 95406.8\n",
      "Minibatch accuracy: 18.8%\n",
      "Validation accuracy: 33.6%\n",
      "Minibatch loss at step 1000 : 89221.0\n",
      "Minibatch accuracy: 23.4%\n",
      "Validation accuracy: 52.3%\n",
      "Minibatch loss at step 1500 : 72524.9\n",
      "Minibatch accuracy: 36.7%\n",
      "Validation accuracy: 60.3%\n",
      "Minibatch loss at step 2000 : 72578.0\n",
      "Minibatch accuracy: 39.1%\n",
      "Validation accuracy: 65.1%\n",
      "Minibatch loss at step 2500 : 70891.9\n",
      "Minibatch accuracy: 36.7%\n",
      "Validation accuracy: 67.7%\n",
      "Minibatch loss at step 3000 : 53018.3\n",
      "Minibatch accuracy: 41.4%\n",
      "Validation accuracy: 69.6%\n",
      "Minibatch loss at step 3500 : 48522.5\n",
      "Minibatch accuracy: 50.0%\n",
      "Validation accuracy: 70.8%\n",
      "Minibatch loss at step 4000 : 44245.6\n",
      "Minibatch accuracy: 57.8%\n",
      "Validation accuracy: 71.7%\n",
      "Minibatch loss at step 4500 : 38812.9\n",
      "Minibatch accuracy: 60.2%\n",
      "Validation accuracy: 72.3%\n",
      "Minibatch loss at step 5000 : 32246.5\n",
      "Minibatch accuracy: 62.5%\n",
      "Validation accuracy: 72.8%\n",
      "Minibatch loss at step 5500 : 42320.2\n",
      "Minibatch accuracy: 58.6%\n",
      "Validation accuracy: 73.4%\n",
      "Minibatch loss at step 6000 : 48155.0\n",
      "Minibatch accuracy: 61.7%\n",
      "Validation accuracy: 73.8%\n",
      "Minibatch loss at step 6500 : 37638.7\n",
      "Minibatch accuracy: 58.6%\n",
      "Validation accuracy: 74.2%\n",
      "Minibatch loss at step 7000 : 25970.3\n",
      "Minibatch accuracy: 66.4%\n",
      "Validation accuracy: 74.4%\n",
      "Minibatch loss at step 7500 : 28188.4\n",
      "Minibatch accuracy: 64.8%\n",
      "Validation accuracy: 74.6%\n",
      "Minibatch loss at step 8000 : 42634.9\n",
      "Minibatch accuracy: 63.3%\n",
      "Validation accuracy: 74.8%\n",
      "Minibatch loss at step 8500 : 38333.9\n",
      "Minibatch accuracy: 59.4%\n",
      "Validation accuracy: 74.9%\n",
      "Minibatch loss at step 9000 : 37234.0\n",
      "Minibatch accuracy: 58.6%\n",
      "Validation accuracy: 75.0%\n",
      "Minibatch loss at step 9500 : 36488.2\n",
      "Minibatch accuracy: 60.2%\n",
      "Validation accuracy: 75.2%\n",
      "Minibatch loss at step 10000 : 31645.3\n",
      "Minibatch accuracy: 64.8%\n",
      "Validation accuracy: 75.2%\n",
      "Minibatch loss at step 10500 : 28858.7\n",
      "Minibatch accuracy: 65.6%\n",
      "Validation accuracy: 75.3%\n",
      "Minibatch loss at step 11000 : 38988.1\n",
      "Minibatch accuracy: 56.2%\n",
      "Validation accuracy: 75.4%\n",
      "Minibatch loss at step 11500 : 31466.3\n",
      "Minibatch accuracy: 65.6%\n",
      "Validation accuracy: 75.4%\n",
      "Minibatch loss at step 12000 : 32164.5\n",
      "Minibatch accuracy: 64.8%\n",
      "Validation accuracy: 75.5%\n",
      "Minibatch loss at step 12500 : 29191.3\n",
      "Minibatch accuracy: 66.4%\n",
      "Validation accuracy: 75.6%\n",
      "Minibatch loss at step 13000 : 40007.6\n",
      "Minibatch accuracy: 57.0%\n",
      "Validation accuracy: 75.7%\n",
      "Minibatch loss at step 13500 : 30602.4\n",
      "Minibatch accuracy: 62.5%\n",
      "Validation accuracy: 75.7%\n",
      "Minibatch loss at step 14000 : 29382.4\n",
      "Minibatch accuracy: 67.2%\n",
      "Validation accuracy: 75.7%\n",
      "Minibatch loss at step 14500 : 29838.0\n",
      "Minibatch accuracy: 60.9%\n",
      "Validation accuracy: 75.8%\n",
      "Minibatch loss at step 15000 : 30789.6\n",
      "Minibatch accuracy: 62.5%\n",
      "Validation accuracy: 75.9%\n",
      "Test accuracy: 83.4%\n",
      "CPU times: user 1h 45s, sys: 5min 50s, total: 1h 6min 35s\n",
      "Wall time: 20min 26s\n"
     ]
    }
   ],
   "source": [
    "%%time\n",
    "\n",
    "num_steps = 15001\n",
    "\n",
    "with tf.Session(graph=graph) as session:\n",
    "  tf.initialize_all_variables().run()\n",
    "  print \"Initialized\"\n",
    "  for step in xrange(num_steps):\n",
    "    # Pick an offset within the training data, which has been randomized.\n",
    "    # Note: we could use better randomization across epochs.\n",
    "    offset = (step * batch_size) % (train_labels.shape[0] - batch_size)\n",
    "    # Generate a minibatch.\n",
    "    batch_data = train_dataset[offset:(offset + batch_size), :]\n",
    "    batch_labels = train_labels[offset:(offset + batch_size), :]\n",
    "    # Prepare a dictionary telling the session where to feed the minibatch.\n",
    "    # The key of the dictionary is the placeholder node of the graph to be fed,\n",
    "    # and the value is the numpy array to feed to it.\n",
    "    feed_dict = {tf_train_dataset : batch_data, tf_train_labels : batch_labels}\n",
    "    _, l, predictions = session.run(\n",
    "      [optimizer, loss, train_prediction], feed_dict=feed_dict)\n",
    "    if (step % 500 == 0):\n",
    "      print \"Minibatch loss at step\", step, \":\", l\n",
    "      print \"Minibatch accuracy: %.1f%%\" % accuracy(predictions, batch_labels)\n",
    "      print \"Validation accuracy: %.1f%%\" % accuracy(\n",
    "        valid_prediction.eval(), valid_labels)\n",
    "  print \"Test accuracy: %.1f%%\" % accuracy(test_prediction.eval(), test_labels)"
   ]
  },
  {
   "cell_type": "markdown",
   "metadata": {
    "collapsed": true
   },
   "source": [
    "Why is my performance so much worse with additional layers?  hypothesis: not enough steps for constant learning rate.  Try exponential decay.\n",
    "\n",
    "Okay, increased the steps, added exp learning rate, increased beta1 and beta2, while leaving beta3 pretty small.  Quite a big improvement.  Dropout still present on the second hidden layer.  Not sure multiple layers of dropout makes any sense.  Got 90.5% with one layer of dropout.  Without any dropout I get 90.8%, 6 minutes of calculations.  Increase to 91.3% (8 mins) with equally sized hidden layers (1024).\n",
    "\n",
    "I'd like to try a third hidden layer.  I wonder what that would do?  Well this makes no sense.  I added a third hidden layer and the performance plummeted.  Very odd.  Ah-ha!  Possibly my beta coefficients were way too large.  Nope, still too big.  Reduced betas by a large amount and also started the learning rate 100 times lower.  Better results now, no shock, almost anything is better than ~12%.  Got back up to 88.1%, still not quite as good.  Could probably continue to improve via parameter search."
   ]
  },
  {
   "cell_type": "code",
   "execution_count": null,
   "metadata": {
    "collapsed": true
   },
   "outputs": [],
   "source": []
  }
 ],
 "metadata": {
  "colab": {
   "default_view": {},
   "name": "3_regularization.ipynb",
   "provenance": [],
   "version": "0.3.2",
   "views": {}
  },
  "kernelspec": {
   "display_name": "Python 2",
   "language": "python",
   "name": "python2"
  },
  "language_info": {
   "codemirror_mode": {
    "name": "ipython",
    "version": 2
   },
   "file_extension": ".py",
   "mimetype": "text/x-python",
   "name": "python",
   "nbconvert_exporter": "python",
   "pygments_lexer": "ipython2",
   "version": "2.7.10"
  }
 },
 "nbformat": 4,
 "nbformat_minor": 0
}
